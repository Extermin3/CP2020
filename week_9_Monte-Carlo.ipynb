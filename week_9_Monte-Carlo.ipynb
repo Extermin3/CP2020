{
 "cells": [
  {
   "cell_type": "markdown",
   "metadata": {},
   "source": [
    "# Метод Монте-Карло в физике"
   ]
  },
  {
   "cell_type": "markdown",
   "metadata": {},
   "source": [
    "Методами Монте-Карло называют множество различных методов в совершенно разных областях от физики до экономики. Основная суть этих методов заключается в использовании случайных величин для получения различных состояний исследуемой системы. "
   ]
  },
  {
   "cell_type": "markdown",
   "metadata": {},
   "source": [
    "Одно из частых применений метода Монте-Карло в физике состоит в расчете интегралов. При этом действительно полезным и незаменимым метод становится при работе с большим количеством измерений, когда построение обычных квадратур приводит к чересчур  огромным сеткам. Например, уже в случае 10 измерений, задание обычной равномерной решетки шириной в $2^4 = 16$ узлов, приводит к общей сетке размера $2^{40} \\simeq 10^{12}$. Массив данных float такого размера будет занимать 4ТБ в памяти компьютера. Оперировать такими интегралами стандартными методами становится принципиально невозможно."
   ]
  },
  {
   "cell_type": "code",
   "execution_count": 1,
   "metadata": {},
   "outputs": [],
   "source": [
    "import numpy as np\n",
    "import matplotlib.pyplot as plt\n",
    "import scipy.special as sp\n",
    "import math\n",
    "plt.style.use('ggplot')\n",
    "%matplotlib notebook"
   ]
  },
  {
   "cell_type": "markdown",
   "metadata": {},
   "source": [
    "## Задание 1\n",
    "Вычислим объем многомерной сферы в большом количестве измерений."
   ]
  },
  {
   "cell_type": "markdown",
   "metadata": {},
   "source": [
    "### Задание 1.1 \n",
    "Напишите функцию, вычисляющую точный объем $d$-мерной сферы с помощью явного выражения. \n",
    "Объем многомерной сферы радиуса $R$ в $d$-измерениях дается формулой: \n",
    "$$\n",
    "V_d = \\frac{\\pi^{d/2}} {\\Gamma(1 + d/2)}\n",
    "$$\n",
    "где $\\Gamma(x)$ - гамма функция, значение которой можно получить из scipy.special."
   ]
  },
  {
   "cell_type": "code",
   "execution_count": 2,
   "metadata": {},
   "outputs": [
    {
     "name": "stdout",
     "output_type": "stream",
     "text": [
      "Истина_Двумер = 3.141592653589793\n",
      "Истина_Трехмер = 4.1887902047863905\n"
     ]
    }
   ],
   "source": [
    "def getSphereVolumeExact(D, R = 1.0):\n",
    "\n",
    "    V = np.pi**(D/2) * R**(D) /math.gamma(1 + D/2)\n",
    "    return V\n",
    "\n",
    "print('Истина_Двумер =',  getSphereVolumeExact(2, R = 1.0))\n",
    "print('Истина_Трехмер =', getSphereVolumeExact(3, R = 1.0))"
   ]
  },
  {
   "cell_type": "markdown",
   "metadata": {},
   "source": [
    "Совпадает с реальными значениями"
   ]
  },
  {
   "cell_type": "markdown",
   "metadata": {},
   "source": [
    "1. Проверьте результат для нескольких известных вам значений. \n",
    "2. Построите график V(D)"
   ]
  },
  {
   "cell_type": "code",
   "execution_count": 3,
   "metadata": {},
   "outputs": [
    {
     "data": {
      "text/plain": [
       "<matplotlib.legend.Legend at 0x173d8a7eda0>"
      ]
     },
     "execution_count": 3,
     "metadata": {},
     "output_type": "execute_result"
    },
    {
     "data": {
      "image/png": "[encoded data removed]",
      "text/plain": [
       "<Figure size 432x288 with 1 Axes>"
      ]
     },
     "metadata": {
      "needs_background": "light"
     },
     "output_type": "display_data"
    }
   ],
   "source": [
    "D = 0\n",
    "x = []\n",
    "V = []\n",
    "for i in range(20):\n",
    "    x.append(D)\n",
    "    V.append(getSphereVolumeExact(D, R = 1.0))\n",
    "    D += 1\n",
    "plt.plot(x, V, 'o', label = 'V(D)')\n",
    "plt.legend()"
   ]
  },
  {
   "cell_type": "markdown",
   "metadata": {},
   "source": [
    "В пределе стремиться к нулю, ибо факториал в знаменателе"
   ]
  },
  {
   "cell_type": "markdown",
   "metadata": {},
   "source": [
    "### Задание 1.2\n",
    "Напишите функцию, вычисляющую объем сферы методом Монте-Карло на псевдослучайных числах (используя, например `numpy.random.rand`)."
   ]
  },
  {
   "cell_type": "code",
   "execution_count": 4,
   "metadata": {},
   "outputs": [
    {
     "name": "stdout",
     "output_type": "stream",
     "text": [
      "Монте-Карло_Псевдослуч = 4.36\n",
      "Истина = 4.1887902047863905\n"
     ]
    }
   ],
   "source": [
    "N = 5000\n",
    "D = 3\n",
    "def getSphereVolumePseudorandom(N, D, R = 1):\n",
    "    a = []\n",
    "    for i in range(N):\n",
    "        if (np.sum((np.random.uniform(low = -1.0, high = 1.0, size = D))**2)) <= 1: #попадает или не попадает в нашу сферу\n",
    "            a.append(1)\n",
    "        else:\n",
    "            a.append(0)\n",
    "    V_k = (2*R)**D \n",
    "    n = np.sum(a)\n",
    "    V_s = V_k * n / N \n",
    "    return V_s\n",
    "print('Монте-Карло_Псевдослуч =',getSphereVolumePseudorandom(N, D, R = 1))\n",
    "print('Истина =',getSphereVolumeExact(D, R = 1.0))"
   ]
  },
  {
   "cell_type": "markdown",
   "metadata": {},
   "source": [
    "Постройте график зависимости относительной точности $\\epsilon$ которая достигается при фиксированном $N$ от размерности сферы $D$. Для относительной точности используйте выражение $\\epsilon = (V_{exact} - V_{random})/V_{exact}$."
   ]
  },
  {
   "cell_type": "code",
   "execution_count": 5,
   "metadata": {
    "scrolled": true
   },
   "outputs": [
    {
     "name": "stdout",
     "output_type": "stream",
     "text": [
      "4.196\n"
     ]
    },
    {
     "data": {
      "text/plain": [
       "<matplotlib.legend.Legend at 0x173daafd160>"
      ]
     },
     "execution_count": 5,
     "metadata": {},
     "output_type": "execute_result"
    },
    {
     "data": {
      "image/png": "[encoded data removed]",
      "text/plain": [
       "<Figure size 432x288 with 1 Axes>"
      ]
     },
     "metadata": {
      "needs_background": "light"
     },
     "output_type": "display_data"
    }
   ],
   "source": [
    "D = 1\n",
    "N = 4000\n",
    "eps_r = []\n",
    "x_r = []\n",
    "print(getSphereVolumePseudorandom(4000, 3, R = 1))\n",
    "for i in range(15):\n",
    "    x_r.append(D)\n",
    "    eps_r.append((getSphereVolumeExact(D, R = 1) - getSphereVolumePseudorandom(N, D, R = 1)) / getSphereVolumeExact(D, R = 1))\n",
    "    D += 1\n",
    "plt.figure()\n",
    "plt.plot(x_r, eps_r, 'o', label = 'eps(D)')\n",
    "plt.legend()"
   ]
  },
  {
   "cell_type": "markdown",
   "metadata": {},
   "source": [
    "Расходится"
   ]
  },
  {
   "cell_type": "markdown",
   "metadata": {},
   "source": [
    "### Задание 1.3\n",
    "Напишите функцию, вычисляющую объем сферы методом Монте-Карло на квазислучайной последовательности Соболя.\n",
    "\n",
    "Для установки библиотеки `sobol_seq`:\n",
    "\n",
    "\n",
    "выполните `pip install sobol_seq` в Jupyter или\n",
    "\n",
    "выполните команду `pip install sobol_seq --user` в командном окне (если вы используете Jupyter Notebook в составе Anaconda откройте Anaconda Prompt и выполните команду pip в ней, после чего перезапустите Jupyter Notebook).\n"
   ]
  },
  {
   "cell_type": "code",
   "execution_count": 6,
   "metadata": {},
   "outputs": [],
   "source": [
    "#!pip install sobol_seq <-- uncomment to install sobol_seq\n",
    "import sobol_seq\n",
    "sobol_seq.i4_sobol_generate?"
   ]
  },
  {
   "cell_type": "markdown",
   "metadata": {},
   "source": [
    "Используйте функцию `i4_sobol_generate`. Документацию по ней можно получить выполнив следующую строчку кода:"
   ]
  },
  {
   "cell_type": "code",
   "execution_count": 7,
   "metadata": {},
   "outputs": [
    {
     "name": "stdout",
     "output_type": "stream",
     "text": [
      "Монте-Карло_Квазислуч = 4.216\n",
      "Истина = 4.1887902047863905\n"
     ]
    }
   ],
   "source": [
    "N = 1000\n",
    "D = 3\n",
    "def getSphereVolumeQuasirandom(N, D, R = 1): #аналогичный код, только для соболя\n",
    "    a = []\n",
    "    t = (sobol_seq.i4_sobol_generate(D, N) * 2 - 1)**2\n",
    "    for i in range(N):    \n",
    "        if np.sum(t[i]) <= 1: #попадает или не попадает в нашу сферу \n",
    "            a.append(1)\n",
    "        else:\n",
    "            a.append(0)\n",
    "    V_k = (2*R)**D \n",
    "    n = np.sum(a)\n",
    "    V_s = V_k * n / N \n",
    "    return V_s\n",
    "print('Монте-Карло_Квазислуч =', getSphereVolumeQuasirandom(N, D, R = 1))\n",
    "print('Истина =',getSphereVolumeExact(D, R = 1.0))"
   ]
  },
  {
   "cell_type": "markdown",
   "metadata": {},
   "source": [
    "Сравните точность вычисления объема для квазислучайной и псевдослучайной последовательностей, рассчитав  $\\epsilon(D)$, при таком же значении $N$, как в предыдущем задании. Постройте обе зависимости $\\epsilon(D)$ на одном графике в логарифмической шкале по $\\epsilon$."
   ]
  },
  {
   "cell_type": "code",
   "execution_count": 8,
   "metadata": {},
   "outputs": [
    {
     "data": {
      "text/plain": [
       "<matplotlib.legend.Legend at 0x173db37dc18>"
      ]
     },
     "execution_count": 8,
     "metadata": {},
     "output_type": "execute_result"
    },
    {
     "data": {
      "image/png": "[encoded data removed]",
      "text/plain": [
       "<Figure size 432x288 with 1 Axes>"
      ]
     },
     "metadata": {
      "needs_background": "light"
     },
     "output_type": "display_data"
    }
   ],
   "source": [
    "D = 1\n",
    "N = 1000\n",
    "eps_p = []\n",
    "x_p = []\n",
    "for i in range(10):\n",
    "    x_p.append(D)\n",
    "    eps_p.append((getSphereVolumeExact(D, R = 1.0) - getSphereVolumeQuasirandom(N, D, R = 1)) / getSphereVolumeExact(D, R = 1.0))\n",
    "    D += 1\n",
    "plt.figure()\n",
    "plt.plot(x_p, eps_p, label = 'eps(D)')\n",
    "plt.legend()"
   ]
  },
  {
   "cell_type": "markdown",
   "metadata": {},
   "source": [
    "Расходится"
   ]
  },
  {
   "cell_type": "markdown",
   "metadata": {},
   "source": [
    "Сделайте вывды о работе псевдослучайной и квазислучайной последовательностях. "
   ]
  },
  {
   "cell_type": "code",
   "execution_count": 9,
   "metadata": {},
   "outputs": [
    {
     "data": {
      "text/plain": [
       "<matplotlib.legend.Legend at 0x173db407b00>"
      ]
     },
     "execution_count": 9,
     "metadata": {},
     "output_type": "execute_result"
    },
    {
     "data": {
      "image/png": "[encoded data removed]",
      "text/plain": [
       "<Figure size 432x288 with 1 Axes>"
      ]
     },
     "metadata": {
      "needs_background": "light"
     },
     "output_type": "display_data"
    }
   ],
   "source": [
    "D = 3\n",
    "N = 1000\n",
    "eps_p = []\n",
    "x_p = []\n",
    "eps_r = []\n",
    "x_r = []\n",
    "for i in range(10):\n",
    "    x_p.append(D)\n",
    "    eps_p.append((getSphereVolumeExact(D, R = 1.0) - getSphereVolumeQuasirandom(N, D, R = 1)) / getSphereVolumeExact(D, R = 1.0))\n",
    "    x_r.append(D)\n",
    "    eps_r.append((getSphereVolumeExact(D, R = 1) - getSphereVolumePseudorandom(N, D, R = 1)) / getSphereVolumeExact(D, R = 1))\n",
    "    D += 1\n",
    "plt.figure()\n",
    "plt.plot(x_p, eps_p, label = 'Квазирандом')\n",
    "plt.plot(x_r, eps_r, label = 'Псевдорандом')\n",
    "plt.legend()\n"
   ]
  },
  {
   "cell_type": "markdown",
   "metadata": {},
   "source": [
    "Оба расходятся, но квазирандом медленнее"
   ]
  },
  {
   "cell_type": "markdown",
   "metadata": {},
   "source": [
    "## Задание 2\n",
    "\n",
    "Рассмотрим решетку $n\\times n$, в которой каждой ячейке соответствует спин $\\sigma_i$ равный $+1$ или $-1$. При этом между соседними ячейками существует энергия взаимодействия\n",
    "$$\n",
    "E_i = -J \\sigma_i \\sigma_j\n",
    "$$\n",
    "Тогда энергия каждой ячейки \n",
    "$$\n",
    "E_i = -J \\sigma_i \\sum_j \\sigma_j\n",
    "$$\n",
    "где суммирование подразумевается только по соседним с $i$-ой ячейкой.\n",
    "\n",
    "При нулевой температуре энергитически более выгодным состоянием является состояние, когда все спины одинаково ориентированы. Однако при ненулевой температуре вероятность перехода в более возбужденное состояние пропорциональна $\\sim \\exp(-\\Delta E/ k T)$.\n",
    "\n",
    "Явное численное моделирование такой системы (модели Изинга) является проблематичным, поскольку количество возможных состояний системы $2^N$, где $N$ - общее число узлов, и уже для двумерной сетки $16\\times 16$ это число становится астрономически большим. "
   ]
  },
  {
   "cell_type": "markdown",
   "metadata": {},
   "source": [
    "На помощь приходят методы Монте-Карло. Одна из простейших его реализаций (алгоритм Метрополиса — Гастингса):\n",
    "1. Задаем случайное начальное состояние\n",
    "2. Выбираем случайную ячейку\n",
    "3. Переворачиваем её спин и считаем изменение энергии $\\delta E$ данной ячейки.\n",
    "4. Если изменение энергии отрицательное, оставляем спин перевернутым\n",
    "5. Если изменение энергии положительное, оставляем спин перевернутым с вероятностью $\\exp(-\\delta E/kT)$\n",
    "6. Повторяем пункты 2-5 нужное количество раз\n",
    "\n",
    "Спустя достаточно большое количество повторений устанавливается равновесное состояние. "
   ]
  },
  {
   "cell_type": "markdown",
   "metadata": {},
   "source": [
    "Реализуем данный алгоритм: \n",
    "1. Задайте начальное случайное расраспределение в виде матрицы из $+1$ и $-1$ размерности $N\\times N$:"
   ]
  },
  {
   "cell_type": "code",
   "execution_count": 10,
   "metadata": {},
   "outputs": [
    {
     "name": "stdout",
     "output_type": "stream",
     "text": [
      "[[ 1. -1.  1. -1. -1.  1. -1.]\n",
      " [ 1.  1.  1.  1.  1. -1. -1.]\n",
      " [-1. -1. -1.  1. -1.  1. -1.]\n",
      " [-1. -1. -1. -1. -1. -1. -1.]\n",
      " [ 1. -1. -1.  1. -1.  1.  1.]\n",
      " [ 1.  1.  1.  1.  1. -1.  1.]\n",
      " [-1. -1.  1. -1. -1.  1.  1.]]\n"
     ]
    }
   ],
   "source": [
    "N = 7\n",
    "def getInitialState(N):\n",
    "    state = np.ones((N,N))\n",
    "    x = np.ones((N,N))\n",
    "    for i in range(N):\n",
    "        x[i] = np.random.rand(N) \n",
    "        for j in range(N):\n",
    "            if x[i][j] < 0.5: # если в случайном массив от 0 до 1 число меньше 0.5, тогда присваеваем 1, в другом случае -1\n",
    "                x[i][j] = 1\n",
    "            else:\n",
    "                x[i][j] = -1\n",
    "        state[i] = x[i]\n",
    "    return state\n",
    "print(getInitialState(N))\n"
   ]
  },
  {
   "cell_type": "markdown",
   "metadata": {},
   "source": [
    "2. Напишите функцию, которая для ячейки $(i,j)$ расчитывает изменение её энергии, если изменить её знак. При этом для простоты предполагаем, во-первых, что $J=1$ (на него отнормируем kT), и во-вторых, что элементы находящиеся на верхней и нижней (левой и правой) границах находятся рядом друг с другом (топология тора).  \n"
   ]
  },
  {
   "cell_type": "code",
   "execution_count": 11,
   "metadata": {},
   "outputs": [
    {
     "name": "stdout",
     "output_type": "stream",
     "text": [
      "4.0\n",
      "[[ 1.  1. -1.  1. -1.  1.  1.]\n",
      " [-1.  1.  1.  1. -1. -1. -1.]\n",
      " [ 1.  1. -1. -1.  1.  1. -1.]\n",
      " [ 1.  1. -1.  1.  1.  1.  1.]\n",
      " [-1. -1.  1. -1. -1. -1.  1.]\n",
      " [-1.  1.  1.  1. -1.  1.  1.]\n",
      " [ 1.  1.  1.  1.  1. -1.  1.]]\n"
     ]
    }
   ],
   "source": [
    "j = 1\n",
    "i = 1\n",
    "state = getInitialState(N)\n",
    "def getDeltaE(i, j, state):\n",
    "    state_x = state[0] #в следующих четырех строчках учитываем топологию тора\n",
    "    state_f = np.row_stack((state, state_x))\n",
    "    state_y = state_f[: , 0]\n",
    "    statet = np. column_stack((state_f, state_y))\n",
    "    \n",
    "    E_new = statet[i][j] * (statet[i][j + 1] + statet[i][j - 1] + statet[i + 1][j] + statet[i - 1][j]) # по формуле считаем E\n",
    "    E_old = -1 * statet[i][j] * (statet[i][j + 1] + statet[i][j - 1] + statet[i + 1][j] + statet[i - 1][j])  \n",
    "    dE = E_new - E_old\n",
    "    return dE\n",
    "print(getDeltaE(i, j, state))\n",
    "print(state)"
   ]
  },
  {
   "cell_type": "markdown",
   "metadata": {},
   "source": [
    "3. Напишите функцию, которая $N^2$ раз для разных случайных $(i,j)$ меняет спин в зависимости от изменения энергии, согласно пунктам 4. и 5. "
   ]
  },
  {
   "cell_type": "code",
   "execution_count": 12,
   "metadata": {},
   "outputs": [
    {
     "name": "stdout",
     "output_type": "stream",
     "text": [
      "[[ 1.  1. -1.  1. -1.  1.  1.]\n",
      " [-1.  1.  1.  1. -1. -1. -1.]\n",
      " [ 1.  1. -1. -1.  1.  1. -1.]\n",
      " [ 1.  1. -1.  1.  1.  1.  1.]\n",
      " [-1. -1.  1. -1. -1. -1.  1.]\n",
      " [-1.  1.  1.  1. -1.  1.  1.]\n",
      " [ 1.  1.  1.  1.  1. -1.  1.]]\n",
      "[[-1. -1. -1. -1. -1. -1. -1.]\n",
      " [-1. -1. -1. -1. -1. -1. -1.]\n",
      " [-1. -1. -1. -1. -1. -1. -1.]\n",
      " [-1. -1. -1. -1. -1. -1. -1.]\n",
      " [-1. -1. -1. -1. -1. -1. -1.]\n",
      " [-1. -1. -1. -1. -1. -1. -1.]\n",
      " [-1. -1. -1. -1. -1. -1. -1.]]\n"
     ]
    }
   ],
   "source": [
    "T = 0.5\n",
    "print(state)\n",
    "def makeFlip(T, state):\n",
    "    i = np.random.randint(0, N, size = N**2)\n",
    "    j = np.random.randint(0, N, size = N**2)\n",
    "    for k in range(N**2):\n",
    "        if getDeltaE(i[k], j[k], state) <= 0:\n",
    "            state[i[k]][j[k]] = -1 * state[i[k]][j[k]] # реализуем пункты 4 5 \n",
    "        else:\n",
    "            exp = np.exp(-1 * getDeltaE(i[k], j[k], state) / T)\n",
    "            prob = np.random.choice([1, -1], p = [1 - exp, exp]) # распределение вероятностей\n",
    "            state[i[k]][j[k]] = prob * state[i[k]][j[k]]\n",
    "    return state\n",
    "for i in range(50):\n",
    "    makeFlip(T, state)\n",
    "print(makeFlip(T, state))"
   ]
  },
  {
   "cell_type": "markdown",
   "metadata": {},
   "source": [
    "4. Напишите функцию, которая будет рассчитывать значение энергии всей системы (предполагаем $J=1$)."
   ]
  },
  {
   "cell_type": "code",
   "execution_count": 13,
   "metadata": {},
   "outputs": [
    {
     "name": "stdout",
     "output_type": "stream",
     "text": [
      "[[-1. -1. -1. -1. -1. -1. -1.]\n",
      " [-1. -1. -1. -1. -1. -1. -1.]\n",
      " [-1. -1. -1. -1. -1. -1. -1.]\n",
      " [-1. -1. -1. -1. -1. -1. -1.]\n",
      " [-1. -1. -1. -1. -1. -1. -1.]\n",
      " [-1. -1. -1. -1. -1. -1. -1.]\n",
      " [-1. -1. -1. -1. -1. -1. -1.]]\n",
      "-196.0\n"
     ]
    }
   ],
   "source": [
    "print(state)\n",
    "def getEnergy(state):\n",
    "    state_x = state[0] #снова учтем топологию тора\n",
    "    state_f = np.row_stack((state, state_x))\n",
    "    state_y = state_f[: , 0]\n",
    "    statet = np.column_stack((state_f, state_y))\n",
    "    E = 0\n",
    "    E_0 = 0\n",
    "    for j in range(N):\n",
    "        for i in range(N):\n",
    "            E += -1 * statet[i][j] * (statet[i][j + 1] + statet[i][j - 1] + statet[i + 1][j] + statet[i - 1][j]) \n",
    "    return E\n",
    "print(getEnergy(state))"
   ]
  },
  {
   "cell_type": "markdown",
   "metadata": {},
   "source": [
    "5. Напишите функцию, которая будет рассчитывать значение намагниченности всей системы $M=\\sum \\sigma$"
   ]
  },
  {
   "cell_type": "code",
   "execution_count": 14,
   "metadata": {},
   "outputs": [
    {
     "name": "stdout",
     "output_type": "stream",
     "text": [
      "-49.0\n"
     ]
    }
   ],
   "source": [
    "def getMagnetization(state):  \n",
    "    M = 0\n",
    "    for j in range(N):\n",
    "        for i in range(N):\n",
    "            M += state[i][j]\n",
    "    return M\n",
    "print(getMagnetization(state))"
   ]
  },
  {
   "cell_type": "markdown",
   "metadata": {},
   "source": [
    "В следующей ячейке кода зададим начальные параметры: \n",
    "\n",
    "**Nt** - количество точек по температуре, \n",
    "\n",
    "**N** - линейный размер решетки, \n",
    "\n",
    "**eqStep** - количество попыток переворота спина, в течение которых система приводится к равновесному сосотоянию. Обратите внимание, что это число должно увеличиваться пропорционально размеру всей сетки,\n",
    "\n",
    "**steps** - количество попыток переворота спина, в течение которых рассчитывается значения энергии и намагниченности (нужно для усреднения расчитанных значений по ансамблю состояний, близких к равновесному)"
   ]
  },
  {
   "cell_type": "code",
   "execution_count": 15,
   "metadata": {},
   "outputs": [],
   "source": [
    "N       = 10         # размер решетки NxN\n",
    "Nt      = 50         # количество точек температуры\n",
    "eqSteps = 200        # количество раз выполнения makeFlip для установления равновесия\n",
    "steps   = 50         # количество раз выполнения makeFlip для усреднения энергии и намагниченности\n",
    "\n",
    "T = np.linspace(0.5, 5, Nt); \n",
    "E, M = np.zeros(Nt), np.zeros(Nt)"
   ]
  },
  {
   "cell_type": "code",
   "execution_count": 16,
   "metadata": {},
   "outputs": [
    {
     "name": "stdout",
     "output_type": "stream",
     "text": [
      "Done              99999999 %%\r"
     ]
    },
    {
     "data": {
      "image/png": "[encoded data removed]",
      "text/plain": [
       "<Figure size 720x360 with 2 Axes>"
      ]
     },
     "metadata": {
      "needs_background": "light"
     },
     "output_type": "display_data"
    }
   ],
   "source": [
    "for t in range(Nt):\n",
    "    print(\"Complete\", t/Nt*100, '%\\r', end='')\n",
    "    \n",
    "    Esum = Msum = 0\n",
    "    state = getInitialState(N)\n",
    "    \n",
    "    for i in range(eqSteps):         # установление статистического равновесия\n",
    "        makeFlip(T[t], state)          \n",
    "\n",
    "    for i in range(steps):           # суммирование по разным состояниям близким к равновеснсому\n",
    "        makeFlip(T[t], state)          \n",
    "        Esum += getEnergy(state)       \n",
    "        Msum += getMagnetization(state) \n",
    "\n",
    "    E[t] = Esum / (steps * N * N)\n",
    "    M[t] = Msum / (steps * N * N)\n",
    "\n",
    "print(\"Done              \\r\", end='')\n",
    "\n",
    "_, ax = plt.subplots(1,2,figsize=(10, 5));\n",
    "\n",
    "ax[0].scatter(T, E)\n",
    "ax[0].set_xlabel(\"Temperature\");\n",
    "ax[0].set_ylabel(\"Energy \");\n",
    "\n",
    "ax[1].scatter(T, abs(M), color = 'blue')\n",
    "ax[1].set_xlabel(\"Temperature\"); \n",
    "ax[1].set_ylabel(\"Magnetization \");"
   ]
  },
  {
   "cell_type": "markdown",
   "metadata": {},
   "source": [
    "Интерпретируйте с точки зрения физики полученные графики. Описывают ли они поведение ферромагнетиков и фазовые переходы?"
   ]
  },
  {
   "cell_type": "markdown",
   "metadata": {},
   "source": [
    "Выше энергия выше температура. Ниже магнетизм выше температура. "
   ]
  },
  {
   "cell_type": "markdown",
   "metadata": {},
   "source": [
    "Задайте новое сосотояние системы с достаточно большим $N$ и визуализируйте его думя цветами (например с помощью `plt.scatter`). Примените несколько раз к этому сосотоянию функциию makeFlip с низкой и с высокой температурами. Объясните наблюдаемое"
   ]
  },
  {
   "cell_type": "code",
   "execution_count": 17,
   "metadata": {},
   "outputs": [
    {
     "name": "stdout",
     "output_type": "stream",
     "text": [
      "[<matplotlib.lines.Line2D object at 0x00000173DD7055F8>]\n",
      "[<matplotlib.lines.Line2D object at 0x00000173DE8AE940>]\n",
      "[<matplotlib.lines.Line2D object at 0x00000173E09DEA58>]\n"
     ]
    },
    {
     "data": {
      "text/plain": [
       "<Figure size 432x288 with 0 Axes>"
      ]
     },
     "metadata": {},
     "output_type": "display_data"
    },
    {
     "data": {
      "image/png": "[encoded data removed]",
      "text/plain": [
       "<Figure size 576x360 with 1 Axes>"
      ]
     },
     "metadata": {
      "needs_background": "light"
     },
     "output_type": "display_data"
    },
    {
     "data": {
      "text/plain": [
       "<Figure size 432x288 with 0 Axes>"
      ]
     },
     "metadata": {},
     "output_type": "display_data"
    },
    {
     "data": {
      "image/png": "[encoded data removed]",
      "text/plain": [
       "<Figure size 576x360 with 1 Axes>"
      ]
     },
     "metadata": {
      "needs_background": "light"
     },
     "output_type": "display_data"
    },
    {
     "data": {
      "text/plain": [
       "<Figure size 432x288 with 0 Axes>"
      ]
     },
     "metadata": {},
     "output_type": "display_data"
    },
    {
     "data": {
      "image/png": "[encoded data removed]",
      "text/plain": [
       "<Figure size 576x360 with 1 Axes>"
      ]
     },
     "metadata": {
      "needs_background": "light"
     },
     "output_type": "display_data"
    }
   ],
   "source": [
    "N = 64\n",
    "\n",
    "def getInitialState(N): # модифицируем функцию, чтобы она выдавала массив координат точек равных -1\n",
    "    a = []\n",
    "    state = np.ones((N,N))\n",
    "    x = np.ones((N,N))\n",
    "    for i in range(N):\n",
    "        x[i] = np.random.rand(N) \n",
    "        for j in range(N):\n",
    "            if x[i][j] < 0.5: # если в случайном массив от 0 до 1 число меньше 0.5, тогда присваеваем 1, в другом случае -1\n",
    "                x[i][j] = 1\n",
    "            else:\n",
    "                x[i][j] = -1\n",
    "                a.append([i,j])\n",
    "        state[i] = x[i]\n",
    "    return state, a\n",
    "\n",
    "def makeFlip(T, state): # модифицируем функцию, чтобы она выдавала массив с координатами точек, которые равны -1\n",
    "    a = []\n",
    "    i = np.random.randint(0, N, size = N**2)\n",
    "    j = np.random.randint(0, N, size = N**2)\n",
    "    for k in range(N**2):\n",
    "        if getDeltaE(i[k], j[k], state) <= 0:\n",
    "            state[i[k]][j[k]] = -1 * state[i[k]][j[k]] # реализуем пункты 4 5 \n",
    "        else:\n",
    "            exp = np.exp(-1 * getDeltaE(i[k], j[k], state) / T)\n",
    "            prob = np.random.choice([1, -1], p = [1 - exp, exp]) \n",
    "            state[i[k]][j[k]] = prob * state[i[k]][j[k]]\n",
    "    for i in range(N):\n",
    "        for j in range(N):\n",
    "            if state[i][j] < 0:\n",
    "                a.append([i,j])\n",
    "    return state, a\n",
    "\n",
    "def tup(state, a):  \n",
    "    a.append([0, 0]) # добавили элемент, чтобы не было проблем с размерностью\n",
    "    plt.figure()\n",
    "    plt.figure(figsize=(8, 5))\n",
    "#    print(state)\n",
    "    x = []\n",
    "    y = []\n",
    "    h = 0\n",
    "    for k in range(N):\n",
    "        x_0 = a[k][0] # разделили массив с координатами точек \n",
    "        y_0 = a[k][1]\n",
    "    for i in range(N): # по порядку перебираем ВСЕ точки и если координаты точки совпадают \n",
    "        for j in range(N): # с координатами точки(которая равна -1),           \n",
    "            x.append(i) # то мы принтим эту точку особым образом и начинаем искать совпдание\n",
    "            y.append(j) # со следующей точке(которая равна -1)            \n",
    "            x_0 = a[h][0]\n",
    "            y_0 = a[h][1]      \n",
    "            if i == x_0 and j == y_0 and h < len(a)-1:\n",
    "                h += 1\n",
    "                plt.plot(j ,N - 1 - i, 'o', color = 'red')    \n",
    "    return plt.plot(x, y, '.', color = 'green')\n",
    "\n",
    "\n",
    " \n",
    "state, a = getInitialState(N)\n",
    "print(tup(state, a))\n",
    "\n",
    "T = 0.5 # низкая температура\n",
    "for i in range(50):\n",
    "    makeFlip(T, state)\n",
    "state, a = makeFlip(T, state)\n",
    "print(tup(state, a))   \n",
    "\n",
    "T = 100 # высокая температура\n",
    "for i in range(50):\n",
    "    makeFlip(T, state)\n",
    "state, a = makeFlip(T, state)\n",
    "print(tup(state, a))  "
   ]
  },
  {
   "cell_type": "markdown",
   "metadata": {},
   "source": [
    "При низкой температуре спин опеределен областями. При высокой температуре остается лишь хаос."
   ]
  }
 ],
 "metadata": {
  "kernelspec": {
   "display_name": "Python 3",
   "language": "python",
   "name": "python3"
  },
  "language_info": {
   "codemirror_mode": {
    "name": "ipython",
    "version": 3
   },
   "file_extension": ".py",
   "mimetype": "text/x-python",
   "name": "python",
   "nbconvert_exporter": "python",
   "pygments_lexer": "ipython3",
   "version": "3.7.1"
  }
 },
 "nbformat": 4,
 "nbformat_minor": 4
}
